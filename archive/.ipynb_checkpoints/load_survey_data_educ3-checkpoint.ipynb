{
 "cells": [
  {
   "cell_type": "markdown",
   "metadata": {},
   "source": [
    "# Tech Access in the USA "
   ]
  },
  {
   "cell_type": "markdown",
   "metadata": {},
   "source": [
    "## Set up environment"
   ]
  },
  {
   "cell_type": "code",
   "execution_count": 1,
   "metadata": {},
   "outputs": [],
   "source": [
    "# import modules \n",
    "import pandas as pd # data manipulation\n"
   ]
  },
  {
   "cell_type": "code",
   "execution_count": 20,
   "metadata": {},
   "outputs": [
    {
     "ename": "SyntaxError",
     "evalue": "invalid syntax (<ipython-input-20-8f8ac824da38>, line 2)",
     "output_type": "error",
     "traceback": [
      "\u001b[0;36m  File \u001b[0;32m\"<ipython-input-20-8f8ac824da38>\"\u001b[0;36m, line \u001b[0;32m2\u001b[0m\n\u001b[0;31m    pip install chart-studio\u001b[0m\n\u001b[0m              ^\u001b[0m\n\u001b[0;31mSyntaxError\u001b[0m\u001b[0;31m:\u001b[0m invalid syntax\n"
     ]
    }
   ],
   "source": [
    "# Install module for data viz\n",
    "pip install chart-studio"
   ]
  },
  {
   "cell_type": "code",
   "execution_count": 21,
   "metadata": {},
   "outputs": [
    {
     "name": "stdout",
     "output_type": "stream",
     "text": [
      "Collecting package metadata (current_repodata.json): done\n",
      "Solving environment: done\n",
      "\n",
      "## Package Plan ##\n",
      "\n",
      "  environment location: /opt/conda\n",
      "\n",
      "  added / updated specs:\n",
      "    - chart-studio\n",
      "\n",
      "\n",
      "The following packages will be downloaded:\n",
      "\n",
      "    package                    |            build\n",
      "    ---------------------------|-----------------\n",
      "    ca-certificates-2020.4.5.2 |       hecda079_0         147 KB  conda-forge\n",
      "    certifi-2020.4.5.2         |   py37hc8dfbb8_0         152 KB  conda-forge\n",
      "    chart-studio-1.1.0         |             py_0          50 KB  plotly\n",
      "    openssl-1.1.1g             |       h516909a_0         2.1 MB  conda-forge\n",
      "    plotly-4.8.1               |             py_0         4.7 MB  plotly\n",
      "    retrying-1.3.3             |             py_2          11 KB  conda-forge\n",
      "    ------------------------------------------------------------\n",
      "                                           Total:         7.2 MB\n",
      "\n",
      "The following NEW packages will be INSTALLED:\n",
      "\n",
      "  chart-studio       plotly/noarch::chart-studio-1.1.0-py_0\n",
      "  plotly             plotly/noarch::plotly-4.8.1-py_0\n",
      "  retrying           conda-forge/noarch::retrying-1.3.3-py_2\n",
      "\n",
      "The following packages will be UPDATED:\n",
      "\n",
      "  ca-certificates                     2020.4.5.1-hecc5488_0 --> 2020.4.5.2-hecda079_0\n",
      "  certifi                         2020.4.5.1-py37hc8dfbb8_0 --> 2020.4.5.2-py37hc8dfbb8_0\n",
      "  openssl                                 1.1.1f-h516909a_0 --> 1.1.1g-h516909a_0\n",
      "\n",
      "\n",
      "\n",
      "Downloading and Extracting Packages\n",
      "openssl-1.1.1g       | 2.1 MB    | ##################################### | 100% \n",
      "certifi-2020.4.5.2   | 152 KB    | ##################################### | 100% \n",
      "ca-certificates-2020 | 147 KB    | ##################################### | 100% \n",
      "chart-studio-1.1.0   | 50 KB     | ##################################### | 100% \n",
      "retrying-1.3.3       | 11 KB     | ##################################### | 100% \n",
      "plotly-4.8.1         | 4.7 MB    | ##################################### | 100% \n",
      "Preparing transaction: done\n",
      "Verifying transaction: done\n",
      "Executing transaction: done\n",
      "\n",
      "Note: you may need to restart the kernel to use updated packages.\n"
     ]
    }
   ],
   "source": [
    "# Install module for data viz\n",
    "conda install -c plotly chart-studio"
   ]
  },
  {
   "cell_type": "code",
   "execution_count": 24,
   "metadata": {},
   "outputs": [
    {
     "name": "stdout",
     "output_type": "stream",
     "text": [
      "Collecting cufflinks\n",
      "  Downloading cufflinks-0.17.3.tar.gz (81 kB)\n",
      "\u001b[K     |████████████████████████████████| 81 kB 1.2 MB/s eta 0:00:011\n",
      "\u001b[?25hRequirement already satisfied: numpy>=1.9.2 in /opt/conda/lib/python3.7/site-packages (from cufflinks) (1.18.1)\n",
      "Requirement already satisfied: pandas>=0.19.2 in /opt/conda/lib/python3.7/site-packages (from cufflinks) (1.0.3)\n",
      "Requirement already satisfied: plotly>=4.1.1 in /opt/conda/lib/python3.7/site-packages (from cufflinks) (4.8.1)\n",
      "Requirement already satisfied: six>=1.9.0 in /opt/conda/lib/python3.7/site-packages (from cufflinks) (1.14.0)\n",
      "Collecting colorlover>=0.2.1\n",
      "  Downloading colorlover-0.3.0-py3-none-any.whl (8.9 kB)\n",
      "Requirement already satisfied: setuptools>=34.4.1 in /opt/conda/lib/python3.7/site-packages (from cufflinks) (46.1.3.post20200325)\n",
      "Requirement already satisfied: ipython>=5.3.0 in /opt/conda/lib/python3.7/site-packages (from cufflinks) (7.13.0)\n",
      "Requirement already satisfied: ipywidgets>=7.0.0 in /opt/conda/lib/python3.7/site-packages (from cufflinks) (7.5.1)\n",
      "Requirement already satisfied: pytz>=2017.2 in /opt/conda/lib/python3.7/site-packages (from pandas>=0.19.2->cufflinks) (2019.3)\n",
      "Requirement already satisfied: python-dateutil>=2.6.1 in /opt/conda/lib/python3.7/site-packages (from pandas>=0.19.2->cufflinks) (2.8.1)\n",
      "Requirement already satisfied: retrying>=1.3.3 in /opt/conda/lib/python3.7/site-packages (from plotly>=4.1.1->cufflinks) (1.3.3)\n",
      "Requirement already satisfied: prompt-toolkit!=3.0.0,!=3.0.1,<3.1.0,>=2.0.0 in /opt/conda/lib/python3.7/site-packages (from ipython>=5.3.0->cufflinks) (3.0.5)\n",
      "Requirement already satisfied: pygments in /opt/conda/lib/python3.7/site-packages (from ipython>=5.3.0->cufflinks) (2.6.1)\n",
      "Requirement already satisfied: backcall in /opt/conda/lib/python3.7/site-packages (from ipython>=5.3.0->cufflinks) (0.1.0)\n",
      "Requirement already satisfied: decorator in /opt/conda/lib/python3.7/site-packages (from ipython>=5.3.0->cufflinks) (4.4.2)\n",
      "Requirement already satisfied: pickleshare in /opt/conda/lib/python3.7/site-packages (from ipython>=5.3.0->cufflinks) (0.7.5)\n",
      "Requirement already satisfied: pexpect; sys_platform != \"win32\" in /opt/conda/lib/python3.7/site-packages (from ipython>=5.3.0->cufflinks) (4.8.0)\n",
      "Requirement already satisfied: jedi>=0.10 in /opt/conda/lib/python3.7/site-packages (from ipython>=5.3.0->cufflinks) (0.15.2)\n",
      "Requirement already satisfied: traitlets>=4.2 in /opt/conda/lib/python3.7/site-packages (from ipython>=5.3.0->cufflinks) (4.3.3)\n",
      "Requirement already satisfied: nbformat>=4.2.0 in /opt/conda/lib/python3.7/site-packages (from ipywidgets>=7.0.0->cufflinks) (5.0.6)\n",
      "Requirement already satisfied: ipykernel>=4.5.1 in /opt/conda/lib/python3.7/site-packages (from ipywidgets>=7.0.0->cufflinks) (5.2.1)\n",
      "Requirement already satisfied: widgetsnbextension~=3.5.0 in /opt/conda/lib/python3.7/site-packages (from ipywidgets>=7.0.0->cufflinks) (3.5.1)\n",
      "Requirement already satisfied: wcwidth in /opt/conda/lib/python3.7/site-packages (from prompt-toolkit!=3.0.0,!=3.0.1,<3.1.0,>=2.0.0->ipython>=5.3.0->cufflinks) (0.1.9)\n",
      "Requirement already satisfied: ptyprocess>=0.5 in /opt/conda/lib/python3.7/site-packages (from pexpect; sys_platform != \"win32\"->ipython>=5.3.0->cufflinks) (0.6.0)\n",
      "Requirement already satisfied: parso>=0.5.2 in /opt/conda/lib/python3.7/site-packages (from jedi>=0.10->ipython>=5.3.0->cufflinks) (0.5.2)\n",
      "Requirement already satisfied: ipython-genutils in /opt/conda/lib/python3.7/site-packages (from traitlets>=4.2->ipython>=5.3.0->cufflinks) (0.2.0)\n",
      "Requirement already satisfied: jsonschema!=2.5.0,>=2.4 in /opt/conda/lib/python3.7/site-packages (from nbformat>=4.2.0->ipywidgets>=7.0.0->cufflinks) (3.2.0)\n",
      "Requirement already satisfied: jupyter-core in /opt/conda/lib/python3.7/site-packages (from nbformat>=4.2.0->ipywidgets>=7.0.0->cufflinks) (4.6.3)\n",
      "Requirement already satisfied: jupyter-client in /opt/conda/lib/python3.7/site-packages (from ipykernel>=4.5.1->ipywidgets>=7.0.0->cufflinks) (6.1.3)\n",
      "Requirement already satisfied: tornado>=4.2 in /opt/conda/lib/python3.7/site-packages (from ipykernel>=4.5.1->ipywidgets>=7.0.0->cufflinks) (6.0.4)\n",
      "Requirement already satisfied: notebook>=4.4.1 in /opt/conda/lib/python3.7/site-packages (from widgetsnbextension~=3.5.0->ipywidgets>=7.0.0->cufflinks) (6.0.3)\n",
      "Requirement already satisfied: attrs>=17.4.0 in /opt/conda/lib/python3.7/site-packages (from jsonschema!=2.5.0,>=2.4->nbformat>=4.2.0->ipywidgets>=7.0.0->cufflinks) (19.3.0)\n",
      "Requirement already satisfied: importlib-metadata; python_version < \"3.8\" in /opt/conda/lib/python3.7/site-packages (from jsonschema!=2.5.0,>=2.4->nbformat>=4.2.0->ipywidgets>=7.0.0->cufflinks) (1.6.0)\n",
      "Requirement already satisfied: pyrsistent>=0.14.0 in /opt/conda/lib/python3.7/site-packages (from jsonschema!=2.5.0,>=2.4->nbformat>=4.2.0->ipywidgets>=7.0.0->cufflinks) (0.16.0)\n",
      "Requirement already satisfied: pyzmq>=13 in /opt/conda/lib/python3.7/site-packages (from jupyter-client->ipykernel>=4.5.1->ipywidgets>=7.0.0->cufflinks) (19.0.0)\n",
      "Requirement already satisfied: nbconvert in /opt/conda/lib/python3.7/site-packages (from notebook>=4.4.1->widgetsnbextension~=3.5.0->ipywidgets>=7.0.0->cufflinks) (5.6.1)\n",
      "Requirement already satisfied: prometheus-client in /opt/conda/lib/python3.7/site-packages (from notebook>=4.4.1->widgetsnbextension~=3.5.0->ipywidgets>=7.0.0->cufflinks) (0.7.1)\n",
      "Requirement already satisfied: terminado>=0.8.1 in /opt/conda/lib/python3.7/site-packages (from notebook>=4.4.1->widgetsnbextension~=3.5.0->ipywidgets>=7.0.0->cufflinks) (0.8.3)\n",
      "Requirement already satisfied: jinja2 in /opt/conda/lib/python3.7/site-packages (from notebook>=4.4.1->widgetsnbextension~=3.5.0->ipywidgets>=7.0.0->cufflinks) (2.11.2)\n",
      "Requirement already satisfied: Send2Trash in /opt/conda/lib/python3.7/site-packages (from notebook>=4.4.1->widgetsnbextension~=3.5.0->ipywidgets>=7.0.0->cufflinks) (1.5.0)\n",
      "Requirement already satisfied: zipp>=0.5 in /opt/conda/lib/python3.7/site-packages (from importlib-metadata; python_version < \"3.8\"->jsonschema!=2.5.0,>=2.4->nbformat>=4.2.0->ipywidgets>=7.0.0->cufflinks) (3.1.0)\n",
      "Requirement already satisfied: pandocfilters>=1.4.1 in /opt/conda/lib/python3.7/site-packages (from nbconvert->notebook>=4.4.1->widgetsnbextension~=3.5.0->ipywidgets>=7.0.0->cufflinks) (1.4.2)\n",
      "Requirement already satisfied: defusedxml in /opt/conda/lib/python3.7/site-packages (from nbconvert->notebook>=4.4.1->widgetsnbextension~=3.5.0->ipywidgets>=7.0.0->cufflinks) (0.6.0)\n",
      "Requirement already satisfied: bleach in /opt/conda/lib/python3.7/site-packages (from nbconvert->notebook>=4.4.1->widgetsnbextension~=3.5.0->ipywidgets>=7.0.0->cufflinks) (3.1.4)\n",
      "Requirement already satisfied: entrypoints>=0.2.2 in /opt/conda/lib/python3.7/site-packages (from nbconvert->notebook>=4.4.1->widgetsnbextension~=3.5.0->ipywidgets>=7.0.0->cufflinks) (0.3)\n",
      "Requirement already satisfied: mistune<2,>=0.8.1 in /opt/conda/lib/python3.7/site-packages (from nbconvert->notebook>=4.4.1->widgetsnbextension~=3.5.0->ipywidgets>=7.0.0->cufflinks) (0.8.4)\n",
      "Requirement already satisfied: testpath in /opt/conda/lib/python3.7/site-packages (from nbconvert->notebook>=4.4.1->widgetsnbextension~=3.5.0->ipywidgets>=7.0.0->cufflinks) (0.4.4)\n",
      "Requirement already satisfied: MarkupSafe>=0.23 in /opt/conda/lib/python3.7/site-packages (from jinja2->notebook>=4.4.1->widgetsnbextension~=3.5.0->ipywidgets>=7.0.0->cufflinks) (1.1.1)\n",
      "Requirement already satisfied: webencodings in /opt/conda/lib/python3.7/site-packages (from bleach->nbconvert->notebook>=4.4.1->widgetsnbextension~=3.5.0->ipywidgets>=7.0.0->cufflinks) (0.5.1)\n",
      "Building wheels for collected packages: cufflinks\n",
      "  Building wheel for cufflinks (setup.py) ... \u001b[?25ldone\n",
      "\u001b[?25h  Created wheel for cufflinks: filename=cufflinks-0.17.3-py3-none-any.whl size=67921 sha256=edde8b9aef274269b36744e4523f86fca516ebbd500a4b143f8bf9b155021bbe\n",
      "  Stored in directory: /home/jupyter/.cache/pip/wheels/e1/27/13/3fe67fa7ea7be444b831d117220b3b586b872c9acd4df480d0\n",
      "Successfully built cufflinks\n",
      "Installing collected packages: colorlover, cufflinks\n",
      "Successfully installed colorlover-0.3.0 cufflinks-0.17.3\n",
      "Note: you may need to restart the kernel to use updated packages.\n"
     ]
    }
   ],
   "source": [
    "# Install module for data viz\n",
    "pip install cufflinks"
   ]
  },
  {
   "cell_type": "code",
   "execution_count": 25,
   "metadata": {},
   "outputs": [
    {
     "data": {
      "text/html": [
       "        <script type=\"text/javascript\">\n",
       "        window.PlotlyConfig = {MathJaxConfig: 'local'};\n",
       "        if (window.MathJax) {MathJax.Hub.Config({SVG: {font: \"STIX-Web\"}});}\n",
       "        if (typeof require !== 'undefined') {\n",
       "        require.undef(\"plotly\");\n",
       "        requirejs.config({\n",
       "            paths: {\n",
       "                'plotly': ['https://cdn.plot.ly/plotly-latest.min']\n",
       "            }\n",
       "        });\n",
       "        require(['plotly'], function(Plotly) {\n",
       "            window._Plotly = Plotly;\n",
       "        });\n",
       "        }\n",
       "        </script>\n",
       "        "
      ]
     },
     "metadata": {},
     "output_type": "display_data"
    },
    {
     "data": {
      "text/html": [
       "        <script type=\"text/javascript\">\n",
       "        window.PlotlyConfig = {MathJaxConfig: 'local'};\n",
       "        if (window.MathJax) {MathJax.Hub.Config({SVG: {font: \"STIX-Web\"}});}\n",
       "        if (typeof require !== 'undefined') {\n",
       "        require.undef(\"plotly\");\n",
       "        requirejs.config({\n",
       "            paths: {\n",
       "                'plotly': ['https://cdn.plot.ly/plotly-latest.min']\n",
       "            }\n",
       "        });\n",
       "        require(['plotly'], function(Plotly) {\n",
       "            window._Plotly = Plotly;\n",
       "        });\n",
       "        }\n",
       "        </script>\n",
       "        "
      ]
     },
     "metadata": {},
     "output_type": "display_data"
    }
   ],
   "source": [
    "# Import modules for data viz\n",
    "# Standard plotly imports\n",
    "from chart_studio.plotly import plot, iplot as py\n",
    "import plotly.graph_objects as go\n",
    "from plotly.offline import iplot, init_notebook_mode\n",
    "# Using plotly + cufflinks in offline mode\n",
    "import cufflinks\n",
    "cufflinks.go_offline(connected=True)\n",
    "init_notebook_mode(connected=True)"
   ]
  },
  {
   "cell_type": "markdown",
   "metadata": {},
   "source": [
    "## Import data"
   ]
  },
  {
   "cell_type": "code",
   "execution_count": 14,
   "metadata": {},
   "outputs": [
    {
     "data": {
      "text/html": [
       "<div>\n",
       "<style scoped>\n",
       "    .dataframe tbody tr th:only-of-type {\n",
       "        vertical-align: middle;\n",
       "    }\n",
       "\n",
       "    .dataframe tbody tr th {\n",
       "        vertical-align: top;\n",
       "    }\n",
       "\n",
       "    .dataframe thead th {\n",
       "        text-align: right;\n",
       "    }\n",
       "</style>\n",
       "<table border=\"1\" class=\"dataframe\">\n",
       "  <thead>\n",
       "    <tr style=\"text-align: right;\">\n",
       "      <th></th>\n",
       "      <th>Unnamed: 0</th>\n",
       "      <th>Unnamed: 1</th>\n",
       "      <th>Device always available for educational purposes</th>\n",
       "      <th>Device usually available for educational purposes</th>\n",
       "      <th>Device sometimes available for educational purposes</th>\n",
       "      <th>Device rarely available for educational purposes</th>\n",
       "      <th>Device never available for educational purposes</th>\n",
       "      <th>Did not report</th>\n",
       "      <th>Internet always available for educational purposes</th>\n",
       "      <th>Internet usually available for educational purposes</th>\n",
       "      <th>Internet sometimes available for educational purposes</th>\n",
       "      <th>Internet rarely available for educational purposes</th>\n",
       "      <th>Internet never available for educational purposes</th>\n",
       "      <th>Did not report.1</th>\n",
       "    </tr>\n",
       "  </thead>\n",
       "  <tbody>\n",
       "    <tr>\n",
       "      <th>0</th>\n",
       "      <td>NaN</td>\n",
       "      <td>NaN</td>\n",
       "      <td>NaN</td>\n",
       "      <td>NaN</td>\n",
       "      <td>NaN</td>\n",
       "      <td>NaN</td>\n",
       "      <td>NaN</td>\n",
       "      <td>NaN</td>\n",
       "      <td>NaN</td>\n",
       "      <td>NaN</td>\n",
       "      <td>NaN</td>\n",
       "      <td>NaN</td>\n",
       "      <td>NaN</td>\n",
       "      <td>NaN</td>\n",
       "    </tr>\n",
       "    <tr>\n",
       "      <th>1</th>\n",
       "      <td>Total</td>\n",
       "      <td>1197656.0</td>\n",
       "      <td>933220.0</td>\n",
       "      <td>139098.0</td>\n",
       "      <td>35503.0</td>\n",
       "      <td>38554.0</td>\n",
       "      <td>28752.0</td>\n",
       "      <td>22528.0</td>\n",
       "      <td>895037.0</td>\n",
       "      <td>195150.0</td>\n",
       "      <td>29295.0</td>\n",
       "      <td>23976.0</td>\n",
       "      <td>17025.0</td>\n",
       "      <td>37173.0</td>\n",
       "    </tr>\n",
       "    <tr>\n",
       "      <th>2</th>\n",
       "      <td>Age</td>\n",
       "      <td>NaN</td>\n",
       "      <td>NaN</td>\n",
       "      <td>NaN</td>\n",
       "      <td>NaN</td>\n",
       "      <td>NaN</td>\n",
       "      <td>NaN</td>\n",
       "      <td>NaN</td>\n",
       "      <td>NaN</td>\n",
       "      <td>NaN</td>\n",
       "      <td>NaN</td>\n",
       "      <td>NaN</td>\n",
       "      <td>NaN</td>\n",
       "      <td>NaN</td>\n",
       "    </tr>\n",
       "    <tr>\n",
       "      <th>3</th>\n",
       "      <td>18 - 24</td>\n",
       "      <td>47816.0</td>\n",
       "      <td>31825.0</td>\n",
       "      <td>15991.0</td>\n",
       "      <td>NaN</td>\n",
       "      <td>NaN</td>\n",
       "      <td>NaN</td>\n",
       "      <td>NaN</td>\n",
       "      <td>37615.0</td>\n",
       "      <td>5970.0</td>\n",
       "      <td>NaN</td>\n",
       "      <td>4230.0</td>\n",
       "      <td>NaN</td>\n",
       "      <td>NaN</td>\n",
       "    </tr>\n",
       "    <tr>\n",
       "      <th>4</th>\n",
       "      <td>25 - 39</td>\n",
       "      <td>385952.0</td>\n",
       "      <td>300500.0</td>\n",
       "      <td>37236.0</td>\n",
       "      <td>15024.0</td>\n",
       "      <td>6647.0</td>\n",
       "      <td>20267.0</td>\n",
       "      <td>6277.0</td>\n",
       "      <td>295690.0</td>\n",
       "      <td>59704.0</td>\n",
       "      <td>5900.0</td>\n",
       "      <td>2017.0</td>\n",
       "      <td>16923.0</td>\n",
       "      <td>5718.0</td>\n",
       "    </tr>\n",
       "  </tbody>\n",
       "</table>\n",
       "</div>"
      ],
      "text/plain": [
       "    Unnamed: 0  Unnamed: 1  Device always available for educational purposes  \\\n",
       "0          NaN         NaN                                               NaN   \n",
       "1        Total   1197656.0                                          933220.0   \n",
       "2         Age          NaN                                               NaN   \n",
       "3      18 - 24     47816.0                                           31825.0   \n",
       "4      25 - 39    385952.0                                          300500.0   \n",
       "\n",
       "   Device usually available for educational purposes  \\\n",
       "0                                                NaN   \n",
       "1                                           139098.0   \n",
       "2                                                NaN   \n",
       "3                                            15991.0   \n",
       "4                                            37236.0   \n",
       "\n",
       "   Device sometimes available for educational purposes  \\\n",
       "0                                                NaN     \n",
       "1                                            35503.0     \n",
       "2                                                NaN     \n",
       "3                                                NaN     \n",
       "4                                            15024.0     \n",
       "\n",
       "   Device rarely available for educational purposes  \\\n",
       "0                                               NaN   \n",
       "1                                           38554.0   \n",
       "2                                               NaN   \n",
       "3                                               NaN   \n",
       "4                                            6647.0   \n",
       "\n",
       "   Device never available for educational purposes  Did not report  \\\n",
       "0                                              NaN             NaN   \n",
       "1                                          28752.0         22528.0   \n",
       "2                                              NaN             NaN   \n",
       "3                                              NaN             NaN   \n",
       "4                                          20267.0          6277.0   \n",
       "\n",
       "   Internet always available for educational purposes  \\\n",
       "0                                                NaN    \n",
       "1                                           895037.0    \n",
       "2                                                NaN    \n",
       "3                                            37615.0    \n",
       "4                                           295690.0    \n",
       "\n",
       "   Internet usually available for educational purposes  \\\n",
       "0                                                NaN     \n",
       "1                                           195150.0     \n",
       "2                                                NaN     \n",
       "3                                             5970.0     \n",
       "4                                            59704.0     \n",
       "\n",
       "   Internet sometimes available for educational purposes  \\\n",
       "0                                                NaN       \n",
       "1                                            29295.0       \n",
       "2                                                NaN       \n",
       "3                                                NaN       \n",
       "4                                             5900.0       \n",
       "\n",
       "   Internet rarely available for educational purposes  \\\n",
       "0                                                NaN    \n",
       "1                                            23976.0    \n",
       "2                                                NaN    \n",
       "3                                             4230.0    \n",
       "4                                             2017.0    \n",
       "\n",
       "   Internet never available for educational purposes  Did not report.1  \n",
       "0                                                NaN               NaN  \n",
       "1                                            17025.0           37173.0  \n",
       "2                                                NaN               NaN  \n",
       "3                                                NaN               NaN  \n",
       "4                                            16923.0            5718.0  "
      ]
     },
     "execution_count": 14,
     "metadata": {},
     "output_type": "execute_result"
    }
   ],
   "source": [
    "# import WA data \n",
    "educ3 = pd.read_excel(\"educ3.xlsx\", sheet_name = \"WA\", skiprows = 4, na_values = '-')\n",
    "# visual check \n",
    "educ3.head()"
   ]
  },
  {
   "cell_type": "code",
   "execution_count": 38,
   "metadata": {},
   "outputs": [
    {
     "data": {
      "text/plain": [
       "False"
      ]
     },
     "execution_count": 38,
     "metadata": {},
     "output_type": "execute_result"
    }
   ],
   "source": [
    "# Check that sums of columns equal total\n",
    "educ3.iloc[1,1] == sum(educ3.iloc[1,2:8]) # check not passed \n"
   ]
  },
  {
   "cell_type": "code",
   "execution_count": 39,
   "metadata": {},
   "outputs": [
    {
     "data": {
      "text/plain": [
       "1197655.0"
      ]
     },
     "execution_count": 39,
     "metadata": {},
     "output_type": "execute_result"
    }
   ],
   "source": [
    "# Sums to 1 less than total \n",
    "sum(educ3.iloc[1,2:8])\n"
   ]
  },
  {
   "cell_type": "code",
   "execution_count": 41,
   "metadata": {},
   "outputs": [
    {
     "data": {
      "text/plain": [
       "True"
      ]
     },
     "execution_count": 41,
     "metadata": {},
     "output_type": "execute_result"
    }
   ],
   "source": [
    "# Double checked with manual sum and has same result \n",
    "933220 + 139098 + 35503 + 38554 + 28752 + 22528 == sum(educ3.iloc[1,2:8]) # check passed\n"
   ]
  },
  {
   "cell_type": "code",
   "execution_count": 43,
   "metadata": {},
   "outputs": [
    {
     "data": {
      "text/plain": [
       "Device always available for educational purposes        0.779206\n",
       "Device usually available for educational purposes       0.116142\n",
       "Device sometimes available for educational purposes    0.0296438\n",
       "Device rarely available for educational purposes       0.0321912\n",
       "Device never available for educational purposes        0.0240069\n",
       "Did not report                                         0.0188101\n",
       "Name: 1, dtype: object"
      ]
     },
     "execution_count": 43,
     "metadata": {},
     "output_type": "execute_result"
    }
   ],
   "source": [
    "# What percentage have device available for educational purposes\n",
    "# always, usually, sometimes, rarely, never & did not report \n",
    "educ3.iloc[1,2:8]/sum(educ3.iloc[1,2:8])"
   ]
  },
  {
   "cell_type": "code",
   "execution_count": 44,
   "metadata": {},
   "outputs": [
    {
     "data": {
      "text/plain": [
       "Internet always available for educational purposes        0.747324\n",
       "Internet usually available for educational purposes       0.162943\n",
       "Internet sometimes available for educational purposes    0.0244603\n",
       "Internet rarely available for educational purposes       0.0200191\n",
       "Internet never available for educational purposes        0.0142153\n",
       "Did not report.1                                         0.0310381\n",
       "Name: 1, dtype: object"
      ]
     },
     "execution_count": 44,
     "metadata": {},
     "output_type": "execute_result"
    }
   ],
   "source": [
    "# What percentage have internet available for educational purposes\n",
    "# always, usually, sometimes, rarely, never & did not report\n",
    "educ3.iloc[1,8:14]/sum(educ3.iloc[1,8:14])"
   ]
  },
  {
   "cell_type": "code",
   "execution_count": 51,
   "metadata": {},
   "outputs": [
    {
     "data": {
      "text/plain": [
       "Device always available for educational purposes       0.665572\n",
       "Device usually available for educational purposes      0.334428\n",
       "Device sometimes available for educational purposes         NaN\n",
       "Device rarely available for educational purposes            NaN\n",
       "Device never available for educational purposes             NaN\n",
       "Did not report                                              NaN\n",
       "Name: 3, dtype: object"
      ]
     },
     "execution_count": 51,
     "metadata": {},
     "output_type": "execute_result"
    }
   ],
   "source": [
    "# What percentage 18-24 year olds have device available for educational purposes\n",
    "# always, usually, sometimes, rarely, never & did not report\n",
    "educ3.iloc[3,2:8]/(educ3.iloc[3,2:8].sum())"
   ]
  },
  {
   "cell_type": "code",
   "execution_count": 50,
   "metadata": {},
   "outputs": [
    {
     "data": {
      "text/plain": [
       "Internet always available for educational purposes       0.786678\n",
       "Internet usually available for educational purposes      0.124856\n",
       "Internet sometimes available for educational purposes         NaN\n",
       "Internet rarely available for educational purposes       0.088466\n",
       "Internet never available for educational purposes             NaN\n",
       "Did not report.1                                              NaN\n",
       "Name: 3, dtype: object"
      ]
     },
     "execution_count": 50,
     "metadata": {},
     "output_type": "execute_result"
    }
   ],
   "source": [
    "# What percentage 18-24 year olds have internet available for educational purposes\n",
    "# always, usually, sometimes, rarely, never & did not report\n",
    "educ3.iloc[3,8:14]/(educ3.iloc[3,8:14].sum())"
   ]
  },
  {
   "cell_type": "code",
   "execution_count": 52,
   "metadata": {},
   "outputs": [
    {
     "data": {
      "text/plain": [
       "Device always available for educational purposes        0.778596\n",
       "Device usually available for educational purposes      0.0964786\n",
       "Device sometimes available for educational purposes    0.0389272\n",
       "Device rarely available for educational purposes       0.0172224\n",
       "Device never available for educational purposes        0.0525118\n",
       "Did not report                                         0.0162637\n",
       "Name: 4, dtype: object"
      ]
     },
     "execution_count": 52,
     "metadata": {},
     "output_type": "execute_result"
    }
   ],
   "source": [
    "# What percentage 25-39 year olds have device available for educational purposes\n",
    "# always, usually, sometimes, rarely, never & did not report\n",
    "educ3.iloc[4,2:8]/(educ3.iloc[4,2:8].sum())"
   ]
  },
  {
   "cell_type": "code",
   "execution_count": 53,
   "metadata": {},
   "outputs": [
    {
     "data": {
      "text/plain": [
       "Internet always available for educational purposes         0.766132\n",
       "Internet usually available for educational purposes        0.154693\n",
       "Internet sometimes available for educational purposes     0.0152869\n",
       "Internet rarely available for educational purposes       0.00522604\n",
       "Internet never available for educational purposes         0.0438474\n",
       "Did not report.1                                          0.0148153\n",
       "Name: 4, dtype: object"
      ]
     },
     "execution_count": 53,
     "metadata": {},
     "output_type": "execute_result"
    }
   ],
   "source": [
    "# What percentage 25-39 year olds have internet available for educational purposes\n",
    "# always, usually, sometimes, rarely, never & did not report\n",
    "educ3.iloc[4,8:14]/(educ3.iloc[4,8:14].sum())"
   ]
  },
  {
   "cell_type": "code",
   "execution_count": 54,
   "metadata": {},
   "outputs": [
    {
     "data": {
      "text/plain": [
       "Device always available for educational purposes        0.785907\n",
       "Device usually available for educational purposes      0.0977115\n",
       "Device sometimes available for educational purposes    0.0331114\n",
       "Device rarely available for educational purposes       0.0425598\n",
       "Device never available for educational purposes        0.0139644\n",
       "Did not report                                         0.0267456\n",
       "Name: 5, dtype: object"
      ]
     },
     "execution_count": 54,
     "metadata": {},
     "output_type": "execute_result"
    }
   ],
   "source": [
    "# What percentage 40-54 year olds have device available for educational purposes\n",
    "# always, usually, sometimes, rarely, never & did not report\n",
    "educ3.iloc[5,2:8]/(educ3.iloc[5,2:8].sum())"
   ]
  },
  {
   "cell_type": "code",
   "execution_count": 55,
   "metadata": {},
   "outputs": [
    {
     "data": {
      "text/plain": [
       "Internet always available for educational purposes          0.712626\n",
       "Internet usually available for educational purposes         0.183947\n",
       "Internet sometimes available for educational purposes      0.0223134\n",
       "Internet rarely available for educational purposes          0.029178\n",
       "Internet never available for educational purposes        0.000167869\n",
       "Did not report.1                                           0.0517679\n",
       "Name: 5, dtype: object"
      ]
     },
     "execution_count": 55,
     "metadata": {},
     "output_type": "execute_result"
    }
   ],
   "source": [
    "# What percentage 40-54 year olds have internet available for educational purposes\n",
    "# always, usually, sometimes, rarely, never & did not report\n",
    "educ3.iloc[5,8:14]/(educ3.iloc[5,8:14].sum())"
   ]
  },
  {
   "cell_type": "code",
   "execution_count": 56,
   "metadata": {},
   "outputs": [
    {
     "data": {
      "text/plain": [
       "Device always available for educational purposes         0.750284\n",
       "Device usually available for educational purposes        0.227261\n",
       "Device sometimes available for educational purposes    0.00470521\n",
       "Device rarely available for educational purposes        0.0177491\n",
       "Device never available for educational purposes               NaN\n",
       "Did not report                                                NaN\n",
       "Name: 6, dtype: object"
      ]
     },
     "execution_count": 56,
     "metadata": {},
     "output_type": "execute_result"
    }
   ],
   "source": [
    "# What percentage 55-64 year olds have device available for educational purposes\n",
    "# always, usually, sometimes, rarely, never & did not report\n",
    "educ3.iloc[6,2:8]/(educ3.iloc[6,2:8].sum())"
   ]
  },
  {
   "cell_type": "code",
   "execution_count": 57,
   "metadata": {},
   "outputs": [
    {
     "data": {
      "text/plain": [
       "Internet always available for educational purposes       0.752114\n",
       "Internet usually available for educational purposes      0.119316\n",
       "Internet sometimes available for educational purposes     0.12857\n",
       "Internet rarely available for educational purposes            NaN\n",
       "Internet never available for educational purposes             NaN\n",
       "Did not report.1                                              NaN\n",
       "Name: 6, dtype: object"
      ]
     },
     "execution_count": 57,
     "metadata": {},
     "output_type": "execute_result"
    }
   ],
   "source": [
    "# What percentage 55-64 year olds have internet available for educational purposes\n",
    "# always, usually, sometimes, rarely, never & did not report\n",
    "educ3.iloc[6,8:14]/(educ3.iloc[6,8:14].sum())"
   ]
  },
  {
   "cell_type": "code",
   "execution_count": 60,
   "metadata": {},
   "outputs": [
    {
     "data": {
      "text/plain": [
       "Device always available for educational purposes        0.826975\n",
       "Device usually available for educational purposes       0.114238\n",
       "Device sometimes available for educational purposes          NaN\n",
       "Device rarely available for educational purposes       0.0587867\n",
       "Device never available for educational purposes              NaN\n",
       "Did not report                                               NaN\n",
       "Name: 7, dtype: object"
      ]
     },
     "execution_count": 60,
     "metadata": {},
     "output_type": "execute_result"
    }
   ],
   "source": [
    "# What percentage 65+ year olds have device available for educational purposes\n",
    "# always, usually, sometimes, rarely, never & did not report\n",
    "educ3.iloc[7,2:8]/(educ3.iloc[7,2:8].sum())"
   ]
  },
  {
   "cell_type": "code",
   "execution_count": 59,
   "metadata": {},
   "outputs": [
    {
     "data": {
      "text/plain": [
       "Internet always available for educational purposes       0.892444\n",
       "Internet usually available for educational purposes      0.107556\n",
       "Internet sometimes available for educational purposes         NaN\n",
       "Internet rarely available for educational purposes            NaN\n",
       "Internet never available for educational purposes             NaN\n",
       "Did not report.1                                              NaN\n",
       "Name: 7, dtype: object"
      ]
     },
     "execution_count": 59,
     "metadata": {},
     "output_type": "execute_result"
    }
   ],
   "source": [
    "# What percentage 65+ year olds have internet available for educational purposes\n",
    "# always, usually, sometimes, rarely, never & did not report\n",
    "educ3.iloc[7,8:14]/(educ3.iloc[7,8:14].sum())"
   ]
  },
  {
   "cell_type": "code",
   "execution_count": 62,
   "metadata": {},
   "outputs": [
    {
     "data": {
      "text/plain": [
       "Device always available for educational purposes        0.784757\n",
       "Device usually available for educational purposes       0.102883\n",
       "Device sometimes available for educational purposes     0.020404\n",
       "Device rarely available for educational purposes       0.0375244\n",
       "Device never available for educational purposes        0.0289034\n",
       "Did not report                                         0.0255286\n",
       "Name: 9, dtype: object"
      ]
     },
     "execution_count": 62,
     "metadata": {},
     "output_type": "execute_result"
    }
   ],
   "source": [
    "# What percentage females have device available for educational purposes\n",
    "# always, usually, sometimes, rarely, never & did not report\n",
    "educ3.iloc[9,2:8]/(educ3.iloc[9,2:8].sum())"
   ]
  },
  {
   "cell_type": "code",
   "execution_count": 63,
   "metadata": {},
   "outputs": [
    {
     "data": {
      "text/plain": [
       "Device always available for educational purposes         0.77378\n",
       "Device usually available for educational purposes       0.129102\n",
       "Device sometimes available for educational purposes    0.0386765\n",
       "Device rarely available for educational purposes       0.0269776\n",
       "Device never available for educational purposes        0.0192218\n",
       "Did not report                                         0.0122421\n",
       "Name: 10, dtype: object"
      ]
     },
     "execution_count": 63,
     "metadata": {},
     "output_type": "execute_result"
    }
   ],
   "source": [
    "# What percentage males have device available for educational purposes\n",
    "# always, usually, sometimes, rarely, never & did not report\n",
    "educ3.iloc[10,2:8]/(educ3.iloc[10,2:8].sum())"
   ]
  },
  {
   "cell_type": "code",
   "execution_count": 75,
   "metadata": {},
   "outputs": [
    {
     "data": {
      "text/plain": [
       "Device always available for educational purposes         0.571613\n",
       "Device usually available for educational purposes        0.197229\n",
       "Device sometimes available for educational purposes     0.0687274\n",
       "Device rarely available for educational purposes        0.0607546\n",
       "Device never available for educational purposes         0.0955202\n",
       "Did not report                                         0.00615585\n",
       "Name: 56, dtype: object"
      ]
     },
     "execution_count": 75,
     "metadata": {},
     "output_type": "execute_result"
    }
   ],
   "source": [
    "# What percentage with household income <$25K have device available for educational purposes\n",
    "# always, usually, sometimes, rarely, never & did not report\n",
    "educ3.iloc[56,2:8]/(educ3.iloc[56,2:8].sum())"
   ]
  },
  {
   "cell_type": "code",
   "execution_count": 74,
   "metadata": {},
   "outputs": [
    {
     "data": {
      "text/plain": [
       "Device always available for educational purposes          0.82553\n",
       "Device usually available for educational purposes        0.114088\n",
       "Device sometimes available for educational purposes     0.0506377\n",
       "Device rarely available for educational purposes       0.00974468\n",
       "Device never available for educational purposes               NaN\n",
       "Did not report                                                NaN\n",
       "Name: 57, dtype: object"
      ]
     },
     "execution_count": 74,
     "metadata": {},
     "output_type": "execute_result"
    }
   ],
   "source": [
    "# What percentage with household income $25-34K have device available for educational purposes\n",
    "# always, usually, sometimes, rarely, never & did not report\n",
    "educ3.iloc[57,2:8]/(educ3.iloc[57,2:8].sum())"
   ]
  },
  {
   "cell_type": "code",
   "execution_count": 72,
   "metadata": {},
   "outputs": [
    {
     "data": {
      "text/plain": [
       "Device always available for educational purposes        0.589419\n",
       "Device usually available for educational purposes       0.127517\n",
       "Device sometimes available for educational purposes    0.0368912\n",
       "Device rarely available for educational purposes       0.0500024\n",
       "Device never available for educational purposes          0.19617\n",
       "Did not report                                               NaN\n",
       "Name: 58, dtype: object"
      ]
     },
     "execution_count": 72,
     "metadata": {},
     "output_type": "execute_result"
    }
   ],
   "source": [
    "# What percentage with household income $35-49K have device available for educational purposes\n",
    "# always, usually, sometimes, rarely, never & did not report\n",
    "educ3.iloc[58,2:8]/(educ3.iloc[58,2:8].sum())"
   ]
  },
  {
   "cell_type": "code",
   "execution_count": 71,
   "metadata": {},
   "outputs": [
    {
     "data": {
      "text/plain": [
       "Device always available for educational purposes         0.785515\n",
       "Device usually available for educational purposes        0.143059\n",
       "Device sometimes available for educational purposes     0.0658444\n",
       "Device rarely available for educational purposes       0.00558164\n",
       "Device never available for educational purposes               NaN\n",
       "Did not report                                                NaN\n",
       "Name: 59, dtype: object"
      ]
     },
     "execution_count": 71,
     "metadata": {},
     "output_type": "execute_result"
    }
   ],
   "source": [
    "# What percentage with household income $50-74K have device available for educational purposes\n",
    "# always, usually, sometimes, rarely, never & did not report\n",
    "educ3.iloc[59,2:8]/(educ3.iloc[59,2:8].sum())"
   ]
  },
  {
   "cell_type": "code",
   "execution_count": 70,
   "metadata": {},
   "outputs": [
    {
     "data": {
      "text/plain": [
       "Device always available for educational purposes        0.827573\n",
       "Device usually available for educational purposes       0.103305\n",
       "Device sometimes available for educational purposes          NaN\n",
       "Device rarely available for educational purposes       0.0691222\n",
       "Device never available for educational purposes              NaN\n",
       "Did not report                                               NaN\n",
       "Name: 60, dtype: object"
      ]
     },
     "execution_count": 70,
     "metadata": {},
     "output_type": "execute_result"
    }
   ],
   "source": [
    "# What percentage with household income $75-99K have device available for educational purposes\n",
    "# always, usually, sometimes, rarely, never & did not report\n",
    "educ3.iloc[60,2:8]/(educ3.iloc[60,2:8].sum())"
   ]
  },
  {
   "cell_type": "code",
   "execution_count": 69,
   "metadata": {},
   "outputs": [
    {
     "data": {
      "text/plain": [
       "Device always available for educational purposes        0.857675\n",
       "Device usually available for educational purposes      0.0646886\n",
       "Device sometimes available for educational purposes    0.0168779\n",
       "Device rarely available for educational purposes        0.060758\n",
       "Device never available for educational purposes              NaN\n",
       "Did not report                                               NaN\n",
       "Name: 61, dtype: object"
      ]
     },
     "execution_count": 69,
     "metadata": {},
     "output_type": "execute_result"
    }
   ],
   "source": [
    "# What percentage with household income $100-149K have device available for educational purposes\n",
    "# always, usually, sometimes, rarely, never & did not report\n",
    "educ3.iloc[61,2:8]/(educ3.iloc[61,2:8].sum())"
   ]
  },
  {
   "cell_type": "code",
   "execution_count": 68,
   "metadata": {},
   "outputs": [
    {
     "data": {
      "text/plain": [
       "Device always available for educational purposes         0.883618\n",
       "Device usually available for educational purposes       0.0705063\n",
       "Device sometimes available for educational purposes     0.0426147\n",
       "Device rarely available for educational purposes              NaN\n",
       "Device never available for educational purposes               NaN\n",
       "Did not report                                         0.00326128\n",
       "Name: 62, dtype: object"
      ]
     },
     "execution_count": 68,
     "metadata": {},
     "output_type": "execute_result"
    }
   ],
   "source": [
    "# What percentage with household income $150-199K have device available for educational purposes\n",
    "# always, usually, sometimes, rarely, never & did not report\n",
    "educ3.iloc[62,2:8]/(educ3.iloc[62,2:8].sum())"
   ]
  },
  {
   "cell_type": "code",
   "execution_count": 67,
   "metadata": {},
   "outputs": [
    {
     "data": {
      "text/plain": [
       "Device always available for educational purposes         0.806397\n",
       "Device usually available for educational purposes        0.184329\n",
       "Device sometimes available for educational purposes    0.00553184\n",
       "Device rarely available for educational purposes       0.00374277\n",
       "Device never available for educational purposes               NaN\n",
       "Did not report                                                NaN\n",
       "Name: 63, dtype: object"
      ]
     },
     "execution_count": 67,
     "metadata": {},
     "output_type": "execute_result"
    }
   ],
   "source": [
    "# What percentage with household income $200K+ have device available for educational purposes\n",
    "# always, usually, sometimes, rarely, never & did not report\n",
    "educ3.iloc[63,2:8]/(educ3.iloc[63,2:8].sum())"
   ]
  },
  {
   "cell_type": "code",
   "execution_count": 65,
   "metadata": {},
   "outputs": [
    {
     "data": {
      "text/plain": [
       "Device always available for educational purposes         0.624428\n",
       "Device usually available for educational purposes       0.0251248\n",
       "Device sometimes available for educational purposes    0.00327506\n",
       "Device rarely available for educational purposes              NaN\n",
       "Device never available for educational purposes               NaN\n",
       "Did not report                                           0.347172\n",
       "Name: 64, dtype: object"
      ]
     },
     "execution_count": 65,
     "metadata": {},
     "output_type": "execute_result"
    }
   ],
   "source": [
    "# What percentage that did not report household income have device available for educational purposes\n",
    "# always, usually, sometimes, rarely, never & did not report\n",
    "educ3.iloc[64,2:8]/(educ3.iloc[64,2:8].sum())"
   ]
  },
  {
   "cell_type": "code",
   "execution_count": null,
   "metadata": {},
   "outputs": [],
   "source": []
  }
 ],
 "metadata": {
  "environment": {
   "name": "common-cpu.m47",
   "type": "gcloud",
   "uri": "gcr.io/deeplearning-platform-release/base-cpu:m47"
  },
  "kernelspec": {
   "display_name": "Python 3",
   "language": "python",
   "name": "python3"
  },
  "language_info": {
   "codemirror_mode": {
    "name": "ipython",
    "version": 3
   },
   "file_extension": ".py",
   "mimetype": "text/x-python",
   "name": "python",
   "nbconvert_exporter": "python",
   "pygments_lexer": "ipython3",
   "version": "3.7.6"
  }
 },
 "nbformat": 4,
 "nbformat_minor": 4
}
